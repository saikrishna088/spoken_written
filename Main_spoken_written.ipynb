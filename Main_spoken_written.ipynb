{
  "nbformat": 4,
  "nbformat_minor": 0,
  "metadata": {
    "colab": {
      "name": "Main_spoken_written.ipynb",
      "provenance": [],
      "collapsed_sections": []
    },
    "kernelspec": {
      "name": "python3",
      "display_name": "Python 3"
    }
  },
  "cells": [
    {
      "cell_type": "code",
      "metadata": {
        "id": "PGmKm76albcl",
        "colab_type": "code",
        "colab": {
          "base_uri": "https://localhost:8080/",
          "height": 34
        },
        "outputId": "7237ae72-befa-448c-b8fb-17519b395d42"
      },
      "source": [
        "from google.colab import drive\n",
        "drive.mount('/content/drive')"
      ],
      "execution_count": 334,
      "outputs": [
        {
          "output_type": "stream",
          "text": [
            "Drive already mounted at /content/drive; to attempt to forcibly remount, call drive.mount(\"/content/drive\", force_remount=True).\n"
          ],
          "name": "stdout"
        }
      ]
    },
    {
      "cell_type": "code",
      "metadata": {
        "id": "ltHA0sezlWKh",
        "colab_type": "code",
        "colab": {}
      },
      "source": [
        "dr=\"/content/drive/My Drive/Classroom/Datasets/\""
      ],
      "execution_count": 0,
      "outputs": []
    },
    {
      "cell_type": "code",
      "metadata": {
        "id": "6eRhlIVtl1pI",
        "colab_type": "code",
        "colab": {}
      },
      "source": [
        "import pandas as pd\n",
        "import pickle\n",
        "from keras.preprocessing.text import Tokenizer\n",
        "from keras.preprocessing.sequence import pad_sequences\n",
        "from keras.models import load_model\n",
        "import warnings\n",
        "warnings.filterwarnings(\"ignore\", category=FutureWarning)"
      ],
      "execution_count": 0,
      "outputs": []
    },
    {
      "cell_type": "code",
      "metadata": {
        "id": "ZPYmyYPHlm8X",
        "colab_type": "code",
        "colab": {}
      },
      "source": [
        "para=\"many people told me that having son is better than having daughter . when i was five years old playing with three of my friends we found fifty five hundred dollar note and thoughts to share among us . but unfortunatel it was taken by sixty year old men who lives in u.s and he works in n a s a.\""
      ],
      "execution_count": 0,
      "outputs": []
    },
    {
      "cell_type": "code",
      "metadata": {
        "id": "iurJYST_neVj",
        "colab_type": "code",
        "colab": {}
      },
      "source": [
        "words=para.split()\n",
        "seq_id=[len(words)+(i*0.1) for i in range(len(words))]"
      ],
      "execution_count": 0,
      "outputs": []
    },
    {
      "cell_type": "code",
      "metadata": {
        "id": "6uq0FDuqlm-x",
        "colab_type": "code",
        "colab": {}
      },
      "source": [
        "data=pd.DataFrame({'words':words,'sent_id':seq_id})"
      ],
      "execution_count": 0,
      "outputs": []
    },
    {
      "cell_type": "code",
      "metadata": {
        "id": "tokxFckzowXa",
        "colab_type": "code",
        "colab": {}
      },
      "source": [
        "# loading\n",
        "with open(dr+'label_spoken_tokenizer.pickle', 'rb') as handle:\n",
        "    label_tokenizer = pickle.load(handle)"
      ],
      "execution_count": 0,
      "outputs": []
    },
    {
      "cell_type": "code",
      "metadata": {
        "id": "nWZD1ci7qUGB",
        "colab_type": "code",
        "colab": {}
      },
      "source": [
        "# encode and pad sequences\n",
        "def encode_sequences(tokenizer, length, lines,seq_info):\n",
        "    # integer encode sequences\n",
        "    seq = tokenizer.texts_to_sequences(lines)\n",
        "    # pad sequences with 0 values\n",
        "    seq = pad_sequences(seq, maxlen=length, padding='post')\n",
        "    seq=seq.astype(float)\n",
        "    seq.T[-1]=seq_info#adding sequence and token information\n",
        "    return seq"
      ],
      "execution_count": 0,
      "outputs": []
    },
    {
      "cell_type": "code",
      "metadata": {
        "id": "S2-pkpBZrO3Z",
        "colab_type": "code",
        "colab": {}
      },
      "source": [
        "testX = encode_sequences(label_tokenizer, 5, data.iloc[:,0],data.iloc[:,1].tolist())"
      ],
      "execution_count": 0,
      "outputs": []
    },
    {
      "cell_type": "code",
      "metadata": {
        "id": "1KjUzl-FrgfL",
        "colab_type": "code",
        "colab": {}
      },
      "source": [
        "label_model=load_model(dr+'lstm_label_model.h5')\n"
      ],
      "execution_count": 0,
      "outputs": []
    },
    {
      "cell_type": "code",
      "metadata": {
        "id": "z5jU3bJjup0s",
        "colab_type": "code",
        "colab": {}
      },
      "source": [
        "ar=label_model.predict(testX)"
      ],
      "execution_count": 0,
      "outputs": []
    },
    {
      "cell_type": "code",
      "metadata": {
        "id": "KY3Qo1Y9woKJ",
        "colab_type": "code",
        "colab": {}
      },
      "source": [
        "labels=['PLAIN_PUNC','NUMERIC','LETTERS_VERB', 'ELECTRONIC' ]"
      ],
      "execution_count": 0,
      "outputs": []
    },
    {
      "cell_type": "code",
      "metadata": {
        "id": "zfCFHQehuzbL",
        "colab_type": "code",
        "colab": {}
      },
      "source": [
        "db=[ar[e].argmax() for e in range(len(ar))]\n",
        "data['new_class']=db\n",
        "data['dup']=data['words'].apply(lambda w: 2 if len(w)==1 else(2 if len(w.split('.'))>1 and len(w.split('.'))<5 else 0)) \n",
        "data['new_class']=data[[\"new_class\", \"dup\"]].max(axis=1)"
      ],
      "execution_count": 0,
      "outputs": []
    },
    {
      "cell_type": "code",
      "metadata": {
        "id": "scmGd49RB_ay",
        "colab_type": "code",
        "colab": {}
      },
      "source": [
        "n=[]\n",
        "for i,w in enumerate(data['new_class']):\n",
        "  if(w==0):\n",
        "    c=0\n",
        "    q=0\n",
        "    n.append(i)\n",
        "  elif(w==1):\n",
        "    if(c+1==i):\n",
        "      n.append(k)\n",
        "      c=i\n",
        "    else:\n",
        "      n.append(i)\n",
        "      c=i\n",
        "      k=i\n",
        "  elif(w==2):\n",
        "    if(q+1==i):\n",
        "      n.append(p)\n",
        "      q=i\n",
        "    else:\n",
        "      n.append(i)\n",
        "      q=i\n",
        "      p=i\n",
        "      pass\n",
        "    pass\n",
        "  else:\n",
        "    n.append(i)\n",
        "data['dup']=n"
      ],
      "execution_count": 0,
      "outputs": []
    },
    {
      "cell_type": "code",
      "metadata": {
        "id": "NaUOBjyaBW9I",
        "colab_type": "code",
        "colab": {}
      },
      "source": [
        "df=data.groupby(['dup','new_class'])['words'].apply(lambda x: ' '.join(x.astype(str))).reset_index(level =0)\n",
        "df=df.reset_index()"
      ],
      "execution_count": 0,
      "outputs": []
    },
    {
      "cell_type": "code",
      "metadata": {
        "id": "IHKCMEfs3WKa",
        "colab_type": "code",
        "colab": {}
      },
      "source": [
        "#class\n",
        "num_df=df[df['new_class']==1]\n",
        "let_df=df[df['new_class']==2]"
      ],
      "execution_count": 0,
      "outputs": []
    },
    {
      "cell_type": "code",
      "metadata": {
        "id": "ygN-YX0dMFwP",
        "colab_type": "code",
        "colab": {}
      },
      "source": [
        "#load tokenizers\n",
        "# loading\n",
        "with open(dr+'letter_spoken_tokenizer.pickle', 'rb') as handle:\n",
        "    letter_spoken_tokenizer = pickle.load(handle)\n",
        "\n",
        "with open(dr+'letter_written_tokenizer.pickle', 'rb') as handle:\n",
        "    letter_written_tokenizer = pickle.load(handle)\n",
        "\n",
        "with open(dr+'number_spoken_tokenizer.pickle', 'rb') as handle:\n",
        "    number_spoken_tokenizer = pickle.load(handle)\n",
        "    \n",
        "with open(dr+'number_written_tokenizer.pickle', 'rb') as handle:\n",
        "    number_written_tokenizer = pickle.load(handle)"
      ],
      "execution_count": 0,
      "outputs": []
    },
    {
      "cell_type": "code",
      "metadata": {
        "id": "0CvrGGlfKaTT",
        "colab_type": "code",
        "colab": {}
      },
      "source": [
        "num_model=load_model(dr+'num_model.h5')\n",
        "letter_model=load_model(dr+'letter_model.h5')"
      ],
      "execution_count": 0,
      "outputs": []
    },
    {
      "cell_type": "code",
      "metadata": {
        "id": "xSP0InpzM7EP",
        "colab_type": "code",
        "colab": {}
      },
      "source": [
        "#x_num=number_spoken_tokenizer.texts_to_sequences(num_df['words'])\n",
        "def encode(tokenizer, length, lines):\n",
        "    # integer encode sequences\n",
        "    seq = tokenizer.texts_to_sequences(lines)\n",
        "    # pad sequences with 0 values\n",
        "    seq = pad_sequences(seq, maxlen=length, padding='post')\n",
        "    return seq"
      ],
      "execution_count": 0,
      "outputs": []
    },
    {
      "cell_type": "code",
      "metadata": {
        "id": "Sh47_or6Qoqy",
        "colab_type": "code",
        "colab": {}
      },
      "source": [
        "def get_word(n, tokenizer):\n",
        "    for word, index in tokenizer.word_index.items():\n",
        "        if index == n:\n",
        "            return word\n",
        "    return None"
      ],
      "execution_count": 0,
      "outputs": []
    },
    {
      "cell_type": "code",
      "metadata": {
        "id": "lMG-soMqTCSp",
        "colab_type": "code",
        "colab": {}
      },
      "source": [
        "def vect_to_text(preds,tokenizer):\n",
        "  preds_text = []\n",
        "  for i in preds:\n",
        "      temp = []\n",
        "      for j in range(len(i)):\n",
        "          t = get_word(i[j], tokenizer)\n",
        "          if j > 0:\n",
        "              if (t == get_word(i[j-1], tokenizer)) or (t == None):\n",
        "                  temp.append('')\n",
        "              else:\n",
        "                  temp.append(t)\n",
        "          else:\n",
        "              if(t == None):\n",
        "                  temp.append('')\n",
        "              else:\n",
        "                  temp.append(t) \n",
        "\n",
        "      preds_text.append(' '.join(temp))\n",
        "  return preds_text"
      ],
      "execution_count": 0,
      "outputs": []
    },
    {
      "cell_type": "code",
      "metadata": {
        "id": "0jK9ONdbOt7z",
        "colab_type": "code",
        "colab": {}
      },
      "source": [
        "#For numerical predicts\n",
        "num_x = encode(number_spoken_tokenizer, 20,num_df['words'])\n",
        "preds = num_model.predict_classes(num_x.reshape((num_x.shape[0],num_x.shape[1])))"
      ],
      "execution_count": 0,
      "outputs": []
    },
    {
      "cell_type": "code",
      "metadata": {
        "id": "_9Gs3L5lU_kY",
        "colab_type": "code",
        "colab": {}
      },
      "source": [
        "#leter predicts\n",
        "let_x = encode(letter_spoken_tokenizer, 20,let_df['words'])\n",
        "num_preds = num_model.predict_classes(let_x.reshape((let_x.shape[0],let_x.shape[1])))"
      ],
      "execution_count": 0,
      "outputs": []
    },
    {
      "cell_type": "code",
      "metadata": {
        "colab_type": "code",
        "id": "x33DE4o8UYbf",
        "colab": {
          "base_uri": "https://localhost:8080/",
          "height": 272
        },
        "outputId": "378157d5-edbe-4261-c0a1-1215730c2c6b"
      },
      "source": [
        "nums=vect_to_text(preds,number_written_tokenizer)\n",
        "num_df['preds']=nums\n"
      ],
      "execution_count": 358,
      "outputs": [
        {
          "output_type": "stream",
          "text": [
            "/usr/local/lib/python3.6/dist-packages/ipykernel_launcher.py:2: SettingWithCopyWarning: \n",
            "A value is trying to be set on a copy of a slice from a DataFrame.\n",
            "Try using .loc[row_indexer,col_indexer] = value instead\n",
            "\n",
            "See the caveats in the documentation: http://pandas.pydata.org/pandas-docs/stable/user_guide/indexing.html#returning-a-view-versus-a-copy\n",
            "  \n"
          ],
          "name": "stderr"
        },
        {
          "output_type": "execute_result",
          "data": {
            "text/html": [
              "<div>\n",
              "<style scoped>\n",
              "    .dataframe tbody tr th:only-of-type {\n",
              "        vertical-align: middle;\n",
              "    }\n",
              "\n",
              "    .dataframe tbody tr th {\n",
              "        vertical-align: top;\n",
              "    }\n",
              "\n",
              "    .dataframe thead th {\n",
              "        text-align: right;\n",
              "    }\n",
              "</style>\n",
              "<table border=\"1\" class=\"dataframe\">\n",
              "  <thead>\n",
              "    <tr style=\"text-align: right;\">\n",
              "      <th></th>\n",
              "      <th>new_class</th>\n",
              "      <th>dup</th>\n",
              "      <th>words</th>\n",
              "      <th>preds</th>\n",
              "    </tr>\n",
              "  </thead>\n",
              "  <tbody>\n",
              "    <tr>\n",
              "      <th>16</th>\n",
              "      <td>1</td>\n",
              "      <td>16</td>\n",
              "      <td>five</td>\n",
              "      <td>5</td>\n",
              "    </tr>\n",
              "    <tr>\n",
              "      <th>21</th>\n",
              "      <td>1</td>\n",
              "      <td>21</td>\n",
              "      <td>three</td>\n",
              "      <td>3</td>\n",
              "    </tr>\n",
              "    <tr>\n",
              "      <th>27</th>\n",
              "      <td>1</td>\n",
              "      <td>27</td>\n",
              "      <td>fifty five hundred</td>\n",
              "      <td>56</td>\n",
              "    </tr>\n",
              "    <tr>\n",
              "      <th>43</th>\n",
              "      <td>1</td>\n",
              "      <td>45</td>\n",
              "      <td>sixty</td>\n",
              "      <td>60</td>\n",
              "    </tr>\n",
              "  </tbody>\n",
              "</table>\n",
              "</div>"
            ],
            "text/plain": [
              "    new_class  dup               words                  preds\n",
              "16          1   16                five   5                   \n",
              "21          1   21               three   3                   \n",
              "27          1   27  fifty five hundred  56                   \n",
              "43          1   45               sixty  60                   "
            ]
          },
          "metadata": {
            "tags": []
          },
          "execution_count": 358
        }
      ]
    },
    {
      "cell_type": "code",
      "metadata": {
        "colab_type": "code",
        "id": "DFkzmQC-Vazg",
        "colab": {
          "base_uri": "https://localhost:8080/",
          "height": 509
        },
        "outputId": "41c1e3fd-fee3-44c3-d49a-1ca853d19a16"
      },
      "source": [
        "letters=vect_to_text(num_preds,letter_written_tokenizer)\n",
        "let_df['preds']=letters\n",
        "let_df['preds']=let_df['words'].apply(lambda w:(w.replace(\" \", \"\") ).upper())\n",
        "let_df['preds']=let_df['preds'].str.strip()#remove spaces\n"
      ],
      "execution_count": 359,
      "outputs": [
        {
          "output_type": "stream",
          "text": [
            "/usr/local/lib/python3.6/dist-packages/ipykernel_launcher.py:2: SettingWithCopyWarning: \n",
            "A value is trying to be set on a copy of a slice from a DataFrame.\n",
            "Try using .loc[row_indexer,col_indexer] = value instead\n",
            "\n",
            "See the caveats in the documentation: http://pandas.pydata.org/pandas-docs/stable/user_guide/indexing.html#returning-a-view-versus-a-copy\n",
            "  \n",
            "/usr/local/lib/python3.6/dist-packages/ipykernel_launcher.py:3: SettingWithCopyWarning: \n",
            "A value is trying to be set on a copy of a slice from a DataFrame.\n",
            "Try using .loc[row_indexer,col_indexer] = value instead\n",
            "\n",
            "See the caveats in the documentation: http://pandas.pydata.org/pandas-docs/stable/user_guide/indexing.html#returning-a-view-versus-a-copy\n",
            "  This is separate from the ipykernel package so we can avoid doing imports until\n",
            "/usr/local/lib/python3.6/dist-packages/ipykernel_launcher.py:4: SettingWithCopyWarning: \n",
            "A value is trying to be set on a copy of a slice from a DataFrame.\n",
            "Try using .loc[row_indexer,col_indexer] = value instead\n",
            "\n",
            "See the caveats in the documentation: http://pandas.pydata.org/pandas-docs/stable/user_guide/indexing.html#returning-a-view-versus-a-copy\n",
            "  after removing the cwd from sys.path.\n"
          ],
          "name": "stderr"
        },
        {
          "output_type": "execute_result",
          "data": {
            "text/html": [
              "<div>\n",
              "<style scoped>\n",
              "    .dataframe tbody tr th:only-of-type {\n",
              "        vertical-align: middle;\n",
              "    }\n",
              "\n",
              "    .dataframe tbody tr th {\n",
              "        vertical-align: top;\n",
              "    }\n",
              "\n",
              "    .dataframe thead th {\n",
              "        text-align: right;\n",
              "    }\n",
              "</style>\n",
              "<table border=\"1\" class=\"dataframe\">\n",
              "  <thead>\n",
              "    <tr style=\"text-align: right;\">\n",
              "      <th></th>\n",
              "      <th>new_class</th>\n",
              "      <th>dup</th>\n",
              "      <th>words</th>\n",
              "      <th>preds</th>\n",
              "    </tr>\n",
              "  </thead>\n",
              "  <tbody>\n",
              "    <tr>\n",
              "      <th>12</th>\n",
              "      <td>2</td>\n",
              "      <td>12</td>\n",
              "      <td>.</td>\n",
              "      <td>.</td>\n",
              "    </tr>\n",
              "    <tr>\n",
              "      <th>14</th>\n",
              "      <td>2</td>\n",
              "      <td>14</td>\n",
              "      <td>i</td>\n",
              "      <td>I</td>\n",
              "    </tr>\n",
              "    <tr>\n",
              "      <th>36</th>\n",
              "      <td>2</td>\n",
              "      <td>38</td>\n",
              "      <td>.</td>\n",
              "      <td>.</td>\n",
              "    </tr>\n",
              "    <tr>\n",
              "      <th>50</th>\n",
              "      <td>2</td>\n",
              "      <td>52</td>\n",
              "      <td>u.s</td>\n",
              "      <td>U.S</td>\n",
              "    </tr>\n",
              "    <tr>\n",
              "      <th>55</th>\n",
              "      <td>2</td>\n",
              "      <td>57</td>\n",
              "      <td>n a s a.</td>\n",
              "      <td>NASA.</td>\n",
              "    </tr>\n",
              "  </tbody>\n",
              "</table>\n",
              "</div>"
            ],
            "text/plain": [
              "    new_class  dup     words  preds\n",
              "12          2   12         .      .\n",
              "14          2   14         i      I\n",
              "36          2   38         .      .\n",
              "50          2   52       u.s    U.S\n",
              "55          2   57  n a s a.  NASA."
            ]
          },
          "metadata": {
            "tags": []
          },
          "execution_count": 359
        }
      ]
    },
    {
      "cell_type": "code",
      "metadata": {
        "id": "j1z6olzLV0Gk",
        "colab_type": "code",
        "colab": {
          "base_uri": "https://localhost:8080/",
          "height": 311
        },
        "outputId": "7925bccb-39f4-44cf-804e-9d2b95cff858"
      },
      "source": [
        "final_data=data[data['new_class']==0]\n",
        "final_data['preds']=final_data['words']\n",
        "final_data['preds']=final_data['preds'].str.strip()#remove spaces\n",
        "final_data.drop(['sent_id'],axis=1,inplace=True)"
      ],
      "execution_count": 366,
      "outputs": [
        {
          "output_type": "stream",
          "text": [
            "/usr/local/lib/python3.6/dist-packages/ipykernel_launcher.py:2: SettingWithCopyWarning: \n",
            "A value is trying to be set on a copy of a slice from a DataFrame.\n",
            "Try using .loc[row_indexer,col_indexer] = value instead\n",
            "\n",
            "See the caveats in the documentation: http://pandas.pydata.org/pandas-docs/stable/user_guide/indexing.html#returning-a-view-versus-a-copy\n",
            "  \n",
            "/usr/local/lib/python3.6/dist-packages/ipykernel_launcher.py:3: SettingWithCopyWarning: \n",
            "A value is trying to be set on a copy of a slice from a DataFrame.\n",
            "Try using .loc[row_indexer,col_indexer] = value instead\n",
            "\n",
            "See the caveats in the documentation: http://pandas.pydata.org/pandas-docs/stable/user_guide/indexing.html#returning-a-view-versus-a-copy\n",
            "  This is separate from the ipykernel package so we can avoid doing imports until\n",
            "/usr/local/lib/python3.6/dist-packages/pandas/core/frame.py:4117: SettingWithCopyWarning: \n",
            "A value is trying to be set on a copy of a slice from a DataFrame\n",
            "\n",
            "See the caveats in the documentation: http://pandas.pydata.org/pandas-docs/stable/user_guide/indexing.html#returning-a-view-versus-a-copy\n",
            "  errors=errors,\n"
          ],
          "name": "stderr"
        }
      ]
    },
    {
      "cell_type": "code",
      "metadata": {
        "id": "eFXYCtQJZnky",
        "colab_type": "code",
        "colab": {}
      },
      "source": [
        "frames = [final_data, let_df, num_df]"
      ],
      "execution_count": 0,
      "outputs": []
    },
    {
      "cell_type": "code",
      "metadata": {
        "id": "DNgmkW40Znol",
        "colab_type": "code",
        "colab": {}
      },
      "source": [
        "result = pd.concat(frames)\n",
        "result=result.sort_values(by=['dup'])\n",
        "result['preds']=result['preds'].str.strip()\n"
      ],
      "execution_count": 0,
      "outputs": []
    },
    {
      "cell_type": "code",
      "metadata": {
        "id": "uS7Kb7rybUP5",
        "colab_type": "code",
        "colab": {}
      },
      "source": [
        "paragraph=' '.join(result['preds'].values)"
      ],
      "execution_count": 0,
      "outputs": []
    },
    {
      "cell_type": "markdown",
      "metadata": {
        "id": "SKgdsnI_fERl",
        "colab_type": "text"
      },
      "source": [
        ""
      ]
    },
    {
      "cell_type": "code",
      "metadata": {
        "id": "OfjnV5PVf5La",
        "colab_type": "code",
        "colab": {
          "base_uri": "https://localhost:8080/",
          "height": 54
        },
        "outputId": "96248593-88ab-48bc-bff2-4e70f74acc30"
      },
      "source": [
        "paragraph #final paragraph after conversion"
      ],
      "execution_count": 367,
      "outputs": [
        {
          "output_type": "execute_result",
          "data": {
            "text/plain": [
              "'many people told me that having son is better than having daughter . when I was 5 years old playing with 3 of my friends we found 56 dollar note and thoughts to share among us . but unfortunatel it was taken by 60 year old men who lives in U.S and he works in NASA.'"
            ]
          },
          "metadata": {
            "tags": []
          },
          "execution_count": 367
        }
      ]
    },
    {
      "cell_type": "code",
      "metadata": {
        "id": "RT1rycTy1UQ8",
        "colab_type": "code",
        "colab": {}
      },
      "source": [
        ""
      ],
      "execution_count": 0,
      "outputs": []
    }
  ]
}